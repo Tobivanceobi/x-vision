{
 "cells": [
  {
   "cell_type": "code",
   "execution_count": null,
   "outputs": [],
   "source": [
    "import os\n",
    "\n",
    "import cv2\n",
    "import numpy as np\n",
    "import matplotlib.pyplot as plt\n",
    "import torch\n",
    "from torchvision.transforms import transforms\n",
    "\n",
    "from models.helper.dataLoader import KermanyXRayImageFolder\n",
    "from models.resnet18.model import XRayResNet18\n",
    "from models.resnet50.model import XRayResNet50"
   ],
   "metadata": {
    "collapsed": false
   },
   "id": "c559e610df6f2d0"
  },
  {
   "cell_type": "code",
   "execution_count": null,
   "id": "initial_id",
   "metadata": {
    "collapsed": true
   },
   "outputs": [],
   "source": [
    "def apply_gradcam(input_tensor, model, target_layer):\n",
    "    \"\"\"\n",
    "    Apply Grad-CAM to the given tensor and model.\n",
    "    \"\"\"\n",
    "    model.eval()\n",
    "\n",
    "    # Register hooks\n",
    "    gradients = []\n",
    "    def backward_hook(module, grad_input, grad_output):\n",
    "        gradients.append(grad_output[0])\n",
    "\n",
    "    feature_maps = None\n",
    "    def forward_hook(module, input, output):\n",
    "        nonlocal feature_maps\n",
    "        feature_maps = output\n",
    "\n",
    "    backward_handle = target_layer.register_backward_hook(backward_hook)\n",
    "    forward_handle = target_layer.register_forward_hook(forward_hook)\n",
    "\n",
    "    # Forward pass\n",
    "    output = model(input_tensor)\n",
    "    \n",
    "    print(output)\n",
    "\n",
    "    # Target for backprop\n",
    "    one_hot_output = torch.FloatTensor(1, output.size()[-1]).zero_().to(output.device)\n",
    "    one_hot_output[0][output.argmax()] = 1\n",
    "\n",
    "    # Backward pass\n",
    "    model.zero_grad()\n",
    "    output.backward(gradient=one_hot_output, retain_graph=True)\n",
    "\n",
    "    # Remove hooks\n",
    "    backward_handle.remove()\n",
    "    forward_handle.remove()\n",
    "\n",
    "    # Get gradients and feature maps\n",
    "    gradients = gradients[0]\n",
    "\n",
    "    # Weighted combination of feature maps\n",
    "    weights = torch.mean(gradients, [2, 3])\n",
    "    cam = torch.sum(weights.unsqueeze(-1).unsqueeze(-1) * feature_maps, dim=1)\n",
    "\n",
    "    # Normalize and convert to image format\n",
    "    cam = cam.detach().cpu().numpy()[0]\n",
    "    cam = np.maximum(cam, 0)\n",
    "    cam = cv2.resize(cam, (224, 224))\n",
    "    cam = cam - np.min(cam)\n",
    "    cam = cam / np.max(cam)\n",
    "\n",
    "    return cam"
   ]
  },
  {
   "cell_type": "code",
   "execution_count": null,
   "outputs": [],
   "source": [
    "CURR_MODEL = \"resnet50\"\n",
    "MODEL_PATH = CURR_MODEL + \"/cache/\" + CURR_MODEL + \".pth\"\n",
    "# MODEL_PARAMS = [128, 6, 5, 0.00011038211496918009, 5.916018460561741e-05, 0.3952291290587717, 256, 256, 1]\n",
    "MODEL_PARAMS = [32, 6, 3, 0.00015, 0.00005, 0.7, 64, 256, 0]\n",
    "batch_size, freez_ep, unfreez_ep, lr_1, lr_2, dropout_head, hl1, hl2, num_hl = MODEL_PARAMS"
   ],
   "metadata": {
    "collapsed": false
   },
   "id": "419271c4868c2a9b"
  },
  {
   "cell_type": "code",
   "execution_count": null,
   "outputs": [],
   "source": [
    "if os.path.isfile(MODEL_PATH):\n",
    "    print(\"Found pretrained model in cache\")\n",
    "    print(\"\")\n",
    "    if CURR_MODEL == \"resnet18\":\n",
    "        model = XRayResNet18(hl1, hl2, num_hl, dropout_head)\n",
    "    elif CURR_MODEL == \"resnet50\":\n",
    "        model = XRayResNet50(hl1, hl2, num_hl, dropout_head)\n",
    "    model.load_state_dict(torch.load(MODEL_PATH))\n",
    "else:\n",
    "    from models.helper.training import step_train_model\n",
    "    print(\"No pretrained model in cache found\")\n",
    "    print(\"\")\n",
    "    score, model = step_train_model(\n",
    "        MODEL_PARAMS,\n",
    "        pt_model=CURR_MODEL,\n",
    "        return_model=True)\n"
   ],
   "metadata": {
    "collapsed": false
   },
   "id": "bf0b7ff7120c87cd"
  },
  {
   "cell_type": "code",
   "execution_count": null,
   "outputs": [],
   "source": [
    "torch.save(model.state_dict(), MODEL_PATH)"
   ],
   "metadata": {
    "collapsed": false
   },
   "id": "1fd23e19ecb72593"
  },
  {
   "cell_type": "code",
   "execution_count": null,
   "outputs": [],
   "source": [
    "device = torch.device(\"cuda\" if torch.cuda.is_available() else \"cpu\")\n",
    "model = model.to(device)\n",
    "\n",
    "transform = transforms.Compose([\n",
    "    transforms.Resize((224, 224)),\n",
    "    transforms.ToTensor(),\n",
    "])\n",
    "\n",
    "val_dataset = KermanyXRayImageFolder('../data/val', transform=transform)\n",
    "\n",
    "X = val_dataset.data\n",
    "Y = val_dataset.targets\n",
    "\n"
   ],
   "metadata": {
    "collapsed": false
   },
   "id": "8ae1f5268576698d"
  },
  {
   "cell_type": "code",
   "execution_count": null,
   "outputs": [],
   "source": [
    "# Choose an image from the validation dataset\n",
    "input_image, _, _ = val_dataset[0]  # Replace 0 with the index of the image you want to visualize\n",
    "input_tensor = input_image.unsqueeze(0).to(device)\n",
    "\n",
    "# Assuming target_layer is the last convolutional layer of the ResNet model\n",
    "target_layer = model.model.layer4[-1]  # Adjust this according to your model structure\n",
    "print(model.model)\n",
    "# Compute Grad-CAM\n",
    "cam = apply_gradcam(input_tensor, model, target_layer)\n",
    "\n",
    "# Display the Grad-CAM heatmap\n",
    "plt.imshow(cam, cmap='jet')\n",
    "plt.axis('off')\n",
    "plt.show()"
   ],
   "metadata": {
    "collapsed": false
   },
   "id": "dba658743b690822"
  },
  {
   "cell_type": "code",
   "execution_count": null,
   "outputs": [],
   "source": [
    "from torch.utils.data import DataLoader\n",
    "\n",
    "\n",
    "def overlay_heatmap_on_image(heatmap, original_image, alpha=0.6):\n",
    "    \"\"\"\n",
    "    Overlay the Grad-CAM heatmap on the original image.\n",
    "    \"\"\"\n",
    "    # Convert heatmap to RGB\n",
    "    heatmap = np.uint8(255 * heatmap)\n",
    "    heatmap = cv2.applyColorMap(heatmap, cv2.COLORMAP_JET)\n",
    "    \n",
    "    if original_image.dim() == 4 and original_image.size(0) == 1:\n",
    "        original_image = original_image.squeeze(0)\n",
    "    \n",
    "    # Convert tensor image to numpy array\n",
    "    original_image = original_image.permute(1, 2, 0).cpu().numpy()\n",
    "    original_image = np.uint8(255 * original_image)\n",
    "    original_image = cv2.cvtColor(original_image, cv2.COLOR_RGB2BGR)\n",
    "\n",
    "    # Overlay the heatmap on the original image\n",
    "    overlayed_image = cv2.addWeighted(original_image, alpha, heatmap, 1 - alpha, 0)\n",
    "\n",
    "    return overlayed_image\n",
    "\n",
    "true_c = 0\n",
    "false_c = 0\n",
    "\n",
    "val_loader = DataLoader(val_dataset, batch_size=1, shuffle=True)\n",
    "\n",
    "\n",
    "# Choose an image from the validation dataset\n",
    "for input_image, lab_tar, _ in val_loader:\n",
    "    if lab_tar == 0:\n",
    "        if true_c > 5:\n",
    "            continue\n",
    "        true_c += 1\n",
    "    else:\n",
    "        if false_c > 5:\n",
    "            continue\n",
    "        false_c += 1\n",
    "    \n",
    "    print(val_dataset.classes[lab_tar[0]])\n",
    "    \n",
    "    tensor_img = input_image.to(device)\n",
    "    \n",
    "    # Compute Grad-CAM\n",
    "    cam = apply_gradcam(tensor_img, model, target_layer)\n",
    "    \n",
    "    # Overlay heatmap on the original image\n",
    "    overlayed_image = overlay_heatmap_on_image(cam, input_image)\n",
    "    \n",
    "    fig, ax = plt.subplots(1, 2, figsize=(12, 6))\n",
    "    \n",
    "    if input_image.dim() == 4 and input_image.size(0) == 1:\n",
    "        input_image = input_image.squeeze(0)\n",
    "\n",
    "    # Original image\n",
    "    ax[0].imshow(input_image.permute(1, 2, 0))\n",
    "    ax[0].set_title(\"Original Image\")\n",
    "    ax[0].axis('off')\n",
    "    \n",
    "    # Image with Grad-CAM\n",
    "    ax[1].imshow(cv2.cvtColor(overlayed_image, cv2.COLOR_BGR2RGB))\n",
    "    ax[1].set_title(\"Grad-CAM Overlay\")\n",
    "    ax[1].axis('off')\n",
    "    \n",
    "    plt.show()"
   ],
   "metadata": {
    "collapsed": false
   },
   "id": "c9388fadb14e464"
  },
  {
   "cell_type": "code",
   "execution_count": null,
   "outputs": [],
   "source": [],
   "metadata": {
    "collapsed": false
   },
   "id": "e7396a224e5dfe77"
  }
 ],
 "metadata": {
  "kernelspec": {
   "display_name": "Python 3",
   "language": "python",
   "name": "python3"
  },
  "language_info": {
   "codemirror_mode": {
    "name": "ipython",
    "version": 2
   },
   "file_extension": ".py",
   "mimetype": "text/x-python",
   "name": "python",
   "nbconvert_exporter": "python",
   "pygments_lexer": "ipython2",
   "version": "2.7.6"
  }
 },
 "nbformat": 4,
 "nbformat_minor": 5
}
